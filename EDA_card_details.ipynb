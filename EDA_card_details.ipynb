{
 "cells": [
  {
   "cell_type": "code",
   "execution_count": 3,
   "metadata": {},
   "outputs": [],
   "source": [
    "import pandas as pd\n",
    "import numpy as np\n",
    "import matplotlib.pyplot as plt \n",
    "import seaborn as sns\n",
    "import tabula"
   ]
  },
  {
   "cell_type": "markdown",
   "metadata": {},
   "source": [
    "First, extract the card_details data from its source using the following code:"
   ]
  },
  {
   "cell_type": "code",
   "execution_count": 96,
   "metadata": {},
   "outputs": [],
   "source": [
    "def retrieve_pdf_data(pdf_link):\n",
    "    # Use tabula to extract tables from the PDF\n",
    "    try:\n",
    "        pdf_df = tabula.read_pdf(pdf_link, pages='all', multiple_tables=True)\n",
    "            \n",
    "        # Concatenate all tables into a single DataFrame\n",
    "        pdf_df = pd.concat(pdf_df, ignore_index=True)\n",
    "            \n",
    "        return pdf_df\n",
    "    except Exception as e:\n",
    "        print(f\"Error extracting data from PDF: {e}\")\n",
    "        return None\n",
    "\n",
    "# Provide the PDF link as an argument to the retrieve_pdf_data method\n",
    "card_data = retrieve_pdf_data('https://data-handling-public.s3.eu-west-1.amazonaws.com/card_details.pdf')"
   ]
  },
  {
   "cell_type": "code",
   "execution_count": 90,
   "metadata": {},
   "outputs": [
    {
     "data": {
      "text/html": [
       "<div>\n",
       "<style scoped>\n",
       "    .dataframe tbody tr th:only-of-type {\n",
       "        vertical-align: middle;\n",
       "    }\n",
       "\n",
       "    .dataframe tbody tr th {\n",
       "        vertical-align: top;\n",
       "    }\n",
       "\n",
       "    .dataframe thead th {\n",
       "        text-align: right;\n",
       "    }\n",
       "</style>\n",
       "<table border=\"1\" class=\"dataframe\">\n",
       "  <thead>\n",
       "    <tr style=\"text-align: right;\">\n",
       "      <th></th>\n",
       "      <th>card_number</th>\n",
       "      <th>expiry_date</th>\n",
       "      <th>card_provider</th>\n",
       "      <th>date_payment_confirmed</th>\n",
       "    </tr>\n",
       "  </thead>\n",
       "  <tbody>\n",
       "    <tr>\n",
       "      <th>0</th>\n",
       "      <td>30060773296197</td>\n",
       "      <td>09/26</td>\n",
       "      <td>Diners Club / Carte Blanche</td>\n",
       "      <td>2015-11-25</td>\n",
       "    </tr>\n",
       "    <tr>\n",
       "      <th>1</th>\n",
       "      <td>349624180933183</td>\n",
       "      <td>10/23</td>\n",
       "      <td>American Express</td>\n",
       "      <td>2001-06-18</td>\n",
       "    </tr>\n",
       "    <tr>\n",
       "      <th>2</th>\n",
       "      <td>3529023891650490</td>\n",
       "      <td>06/23</td>\n",
       "      <td>JCB 16 digit</td>\n",
       "      <td>2000-12-26</td>\n",
       "    </tr>\n",
       "    <tr>\n",
       "      <th>3</th>\n",
       "      <td>213142929492281</td>\n",
       "      <td>09/27</td>\n",
       "      <td>JCB 15 digit</td>\n",
       "      <td>2011-02-12</td>\n",
       "    </tr>\n",
       "    <tr>\n",
       "      <th>4</th>\n",
       "      <td>502067329974</td>\n",
       "      <td>10/25</td>\n",
       "      <td>Maestro</td>\n",
       "      <td>1997-03-13</td>\n",
       "    </tr>\n",
       "  </tbody>\n",
       "</table>\n",
       "</div>"
      ],
      "text/plain": [
       "        card_number expiry_date                card_provider  \\\n",
       "0    30060773296197       09/26  Diners Club / Carte Blanche   \n",
       "1   349624180933183       10/23             American Express   \n",
       "2  3529023891650490       06/23                 JCB 16 digit   \n",
       "3   213142929492281       09/27                 JCB 15 digit   \n",
       "4      502067329974       10/25                      Maestro   \n",
       "\n",
       "  date_payment_confirmed  \n",
       "0             2015-11-25  \n",
       "1             2001-06-18  \n",
       "2             2000-12-26  \n",
       "3             2011-02-12  \n",
       "4             1997-03-13  "
      ]
     },
     "execution_count": 90,
     "metadata": {},
     "output_type": "execute_result"
    }
   ],
   "source": [
    "card_data.head()"
   ]
  },
  {
   "cell_type": "markdown",
   "metadata": {},
   "source": [
    ".head() allows me to quickly view the data columns and the data that may be available."
   ]
  },
  {
   "cell_type": "code",
   "execution_count": 91,
   "metadata": {},
   "outputs": [
    {
     "data": {
      "text/html": [
       "<div>\n",
       "<style scoped>\n",
       "    .dataframe tbody tr th:only-of-type {\n",
       "        vertical-align: middle;\n",
       "    }\n",
       "\n",
       "    .dataframe tbody tr th {\n",
       "        vertical-align: top;\n",
       "    }\n",
       "\n",
       "    .dataframe thead th {\n",
       "        text-align: right;\n",
       "    }\n",
       "</style>\n",
       "<table border=\"1\" class=\"dataframe\">\n",
       "  <thead>\n",
       "    <tr style=\"text-align: right;\">\n",
       "      <th></th>\n",
       "      <th>card_number</th>\n",
       "      <th>expiry_date</th>\n",
       "      <th>card_provider</th>\n",
       "      <th>date_payment_confirmed</th>\n",
       "    </tr>\n",
       "  </thead>\n",
       "  <tbody>\n",
       "    <tr>\n",
       "      <th>count</th>\n",
       "      <td>15309</td>\n",
       "      <td>15309</td>\n",
       "      <td>15309</td>\n",
       "      <td>15309</td>\n",
       "    </tr>\n",
       "    <tr>\n",
       "      <th>unique</th>\n",
       "      <td>15299</td>\n",
       "      <td>136</td>\n",
       "      <td>25</td>\n",
       "      <td>8270</td>\n",
       "    </tr>\n",
       "    <tr>\n",
       "      <th>top</th>\n",
       "      <td>NULL</td>\n",
       "      <td>03/28</td>\n",
       "      <td>VISA 16 digit</td>\n",
       "      <td>NULL</td>\n",
       "    </tr>\n",
       "    <tr>\n",
       "      <th>freq</th>\n",
       "      <td>11</td>\n",
       "      <td>163</td>\n",
       "      <td>2426</td>\n",
       "      <td>11</td>\n",
       "    </tr>\n",
       "  </tbody>\n",
       "</table>\n",
       "</div>"
      ],
      "text/plain": [
       "       card_number expiry_date  card_provider date_payment_confirmed\n",
       "count        15309       15309          15309                  15309\n",
       "unique       15299         136             25                   8270\n",
       "top           NULL       03/28  VISA 16 digit                   NULL\n",
       "freq            11         163           2426                     11"
      ]
     },
     "execution_count": 91,
     "metadata": {},
     "output_type": "execute_result"
    }
   ],
   "source": [
    "card_data.describe(include='all')"
   ]
  },
  {
   "cell_type": "code",
   "execution_count": 92,
   "metadata": {},
   "outputs": [
    {
     "name": "stdout",
     "output_type": "stream",
     "text": [
      "<class 'pandas.core.frame.DataFrame'>\n",
      "RangeIndex: 15309 entries, 0 to 15308\n",
      "Data columns (total 4 columns):\n",
      " #   Column                  Non-Null Count  Dtype \n",
      "---  ------                  --------------  ----- \n",
      " 0   card_number             15309 non-null  object\n",
      " 1   expiry_date             15309 non-null  object\n",
      " 2   card_provider           15309 non-null  object\n",
      " 3   date_payment_confirmed  15309 non-null  object\n",
      "dtypes: object(4)\n",
      "memory usage: 478.5+ KB\n"
     ]
    }
   ],
   "source": [
    "card_data.info()"
   ]
  },
  {
   "cell_type": "code",
   "execution_count": 93,
   "metadata": {},
   "outputs": [
    {
     "name": "stdout",
     "output_type": "stream",
     "text": [
      "                  card_number expiry_date                card_provider  \\\n",
      "149         ?4971858637664481       04/24                VISA 16 digit   \n",
      "157       ???3554954842403828       06/29                 JCB 16 digit   \n",
      "377                      NULL        NULL                         NULL   \n",
      "827                VAB9DSB8ZM  NWS3P2W38H                   NB71VBAHJE   \n",
      "847                      NULL        NULL                         NULL   \n",
      "884                      NULL        NULL                         NULL   \n",
      "1443               MOZOT5Q95V  8YJ3TYH6Z5                   WJVMUO4QX6   \n",
      "1777       ??4654492346226715       03/23                VISA 16 digit   \n",
      "2418                     NULL        NULL                         NULL   \n",
      "2489                     NULL        NULL                         NULL   \n",
      "2830                     NULL        NULL                         NULL   \n",
      "3143        ?3544855866042397       10/28                 JCB 16 digit   \n",
      "3694               K0084A9R99  ACT9K6ECRJ                   JRPRLPIBZ2   \n",
      "4196                     NULL        NULL                         NULL   \n",
      "4208               Y8ITI33X30  WDWMN9TU45                   TS8A81WFXV   \n",
      "4299       ??2720312980409662       11/28                   Mastercard   \n",
      "4916               RNSCD8OCIM  VNLNMWPJII                   JCQMU8FN85   \n",
      "5289          ??4982246481860       01/29                VISA 13 digit   \n",
      "5518         ?213174667750869       09/26                 JCB 15 digit   \n",
      "5686                     NULL        NULL                         NULL   \n",
      "5843     ????3505784569448924       02/28                 JCB 16 digit   \n",
      "6024                     NULL        NULL                         NULL   \n",
      "6126     ????3556268655280464       11/29                 JCB 16 digit   \n",
      "6382      ???2604762576985106       10/29                   Mastercard   \n",
      "6653               MIK9G2EMM0  4FI5GTUVYG                   5CJH7ABGDR   \n",
      "6712      ???5451311230288361       06/24                   Mastercard   \n",
      "7332               I4PWLWSIRJ  RF1ACW165R                   DE488ORDXY   \n",
      "7493               OMZSBN2XG3  6JJKS7R0WA                   OGJTXI6X1H   \n",
      "7818               NB8JJ05D7R  XRPE6C4GS9                   1M38DYQTZV   \n",
      "7880   ???4252720361802860591       05/27                VISA 19 digit   \n",
      "7913           ?4217347542710       06/25                VISA 13 digit   \n",
      "8167            ?584541931351       09/31                      Maestro   \n",
      "8268      ???4672685148732305       04/24                VISA 16 digit   \n",
      "8480       ??3535182016456604       04/26                 JCB 16 digit   \n",
      "8487     ?4222069242355461965       12/23                VISA 19 digit   \n",
      "10106    ????3512756643215215       09/30                 JCB 16 digit   \n",
      "10457              G0EF4TS8C8  5VN8HOLMVE                   DLWF2HANZF   \n",
      "11111       ?2314734659486501       06/25                   Mastercard   \n",
      "11190     ????341935091733787       01/23             American Express   \n",
      "11345              Z8855EXTJX  Q7VGWP7LH9                   XGZBYBYGUW   \n",
      "11402    ????3543745641013832       01/24                 JCB 16 digit   \n",
      "11465              JQTLQAAQTD  ZBGGFGY4H0                   UA07L7EILH   \n",
      "11499              T23BTBBJDD  UMR9FIE22M                   BU9U947ZGV   \n",
      "11688          ??575421945446       08/31                      Maestro   \n",
      "11937          ??630466795154       12/27                      Maestro   \n",
      "12830      ????38922600092697       03/27  Diners Club / Carte Blanche   \n",
      "12876                    NULL        NULL                         NULL   \n",
      "13708                    NULL        NULL                         NULL   \n",
      "14039     ????344132437598598       01/24             American Express   \n",
      "14346     ???4814644393449676       08/28                VISA 16 digit   \n",
      "14884              LSWT9DT4G4  2ANT8LW3I5                   5MFWFBZRM9   \n",
      "\n",
      "      date_payment_confirmed  \n",
      "149               2016-11-17  \n",
      "157               1998-01-04  \n",
      "377                     NULL  \n",
      "827               GTC9KBWJO9  \n",
      "847                     NULL  \n",
      "884                     NULL  \n",
      "1443              DJIXF1AFAZ  \n",
      "1777              1996-08-09  \n",
      "2418                    NULL  \n",
      "2489                    NULL  \n",
      "2830                    NULL  \n",
      "3143              2020-08-25  \n",
      "3694              H2PCQP4W50  \n",
      "4196                    NULL  \n",
      "4208              XTD27ANR5Q  \n",
      "4299              1998-04-16  \n",
      "4916              7VGB4DA1WI  \n",
      "5289              2019-11-30  \n",
      "5518              2000-07-08  \n",
      "5686                    NULL  \n",
      "5843              2012-10-12  \n",
      "6024                    NULL  \n",
      "6126              1997-01-03  \n",
      "6382              2015-11-03  \n",
      "6653              RLQYRRYHPU  \n",
      "6712              2005-02-09  \n",
      "7332              T008RE1ZR6  \n",
      "7493              7FL8EU9GBF  \n",
      "7818              GD9PHJXQR4  \n",
      "7880              2014-01-19  \n",
      "7913              2016-08-27  \n",
      "8167              2014-02-22  \n",
      "8268              2014-07-18  \n",
      "8480              2005-02-25  \n",
      "8487              1999-01-25  \n",
      "10106             2008-07-26  \n",
      "10457             WCK463ZO1Z  \n",
      "11111             2003-08-05  \n",
      "11190             2001-01-28  \n",
      "11345             OE3KONN2V6  \n",
      "11402             2004-06-21  \n",
      "11465             T995FX2C7W  \n",
      "11499             EVVMMB3QYV  \n",
      "11688             1998-12-20  \n",
      "11937             2013-07-17  \n",
      "12830             1996-07-02  \n",
      "12876                   NULL  \n",
      "13708                   NULL  \n",
      "14039             1996-07-16  \n",
      "14346             1996-08-02  \n",
      "14884             UZGSD0AEBT  \n"
     ]
    }
   ],
   "source": [
    "# Create a boolean mask for non-numeric values in the specified column\n",
    "non_numeric_mask = ~pd.to_numeric(card_data['card_number'], errors='coerce').notna()\n",
    "\n",
    "# Use the mask to display the rows where the specified column has non-numeric values\n",
    "rows_with_non_numeric_values = card_data[non_numeric_mask]\n",
    "\n",
    "# Display the rows where the specified column has non-numeric values\n",
    "print(rows_with_non_numeric_values)"
   ]
  },
  {
   "cell_type": "code",
   "execution_count": 102,
   "metadata": {},
   "outputs": [
    {
     "name": "stdout",
     "output_type": "stream",
     "text": [
      "<class 'pandas.core.frame.DataFrame'>\n",
      "RangeIndex: 15309 entries, 0 to 15308\n",
      "Data columns (total 4 columns):\n",
      " #   Column                  Non-Null Count  Dtype \n",
      "---  ------                  --------------  ----- \n",
      " 0   card_number             15309 non-null  object\n",
      " 1   expiry_date             15309 non-null  object\n",
      " 2   card_provider           15309 non-null  object\n",
      " 3   date_payment_confirmed  15309 non-null  object\n",
      "dtypes: object(4)\n",
      "memory usage: 478.5+ KB\n"
     ]
    }
   ],
   "source": [
    "card_data[\"card_number\"].astype(object)\n",
    "card_data.info()"
   ]
  },
  {
   "cell_type": "code",
   "execution_count": 105,
   "metadata": {},
   "outputs": [
    {
     "name": "stdout",
     "output_type": "stream",
     "text": [
      "      card_number expiry_date card_provider date_payment_confirmed\n",
      "377          NULL        NULL          NULL                   NULL\n",
      "827    VAB9DSB8ZM  NWS3P2W38H    NB71VBAHJE             GTC9KBWJO9\n",
      "847          NULL        NULL          NULL                   NULL\n",
      "884          NULL        NULL          NULL                   NULL\n",
      "1443   MOZOT5Q95V  8YJ3TYH6Z5    WJVMUO4QX6             DJIXF1AFAZ\n",
      "2418         NULL        NULL          NULL                   NULL\n",
      "2489         NULL        NULL          NULL                   NULL\n",
      "2830         NULL        NULL          NULL                   NULL\n",
      "3694   K0084A9R99  ACT9K6ECRJ    JRPRLPIBZ2             H2PCQP4W50\n",
      "4196         NULL        NULL          NULL                   NULL\n",
      "4208   Y8ITI33X30  WDWMN9TU45    TS8A81WFXV             XTD27ANR5Q\n",
      "4916   RNSCD8OCIM  VNLNMWPJII    JCQMU8FN85             7VGB4DA1WI\n",
      "5686         NULL        NULL          NULL                   NULL\n",
      "6024         NULL        NULL          NULL                   NULL\n",
      "6653   MIK9G2EMM0  4FI5GTUVYG    5CJH7ABGDR             RLQYRRYHPU\n",
      "7332   I4PWLWSIRJ  RF1ACW165R    DE488ORDXY             T008RE1ZR6\n",
      "7493   OMZSBN2XG3  6JJKS7R0WA    OGJTXI6X1H             7FL8EU9GBF\n",
      "7818   NB8JJ05D7R  XRPE6C4GS9    1M38DYQTZV             GD9PHJXQR4\n",
      "10457  G0EF4TS8C8  5VN8HOLMVE    DLWF2HANZF             WCK463ZO1Z\n",
      "11345  Z8855EXTJX  Q7VGWP7LH9    XGZBYBYGUW             OE3KONN2V6\n",
      "11465  JQTLQAAQTD  ZBGGFGY4H0    UA07L7EILH             T995FX2C7W\n",
      "11499  T23BTBBJDD  UMR9FIE22M    BU9U947ZGV             EVVMMB3QYV\n",
      "12876        NULL        NULL          NULL                   NULL\n",
      "13708        NULL        NULL          NULL                   NULL\n",
      "14884  LSWT9DT4G4  2ANT8LW3I5    5MFWFBZRM9             UZGSD0AEBT\n"
     ]
    }
   ],
   "source": [
    "# Create a boolean mask for non-numeric values in the specified column\n",
    "non_numeric_mask = ~pd.to_numeric(card_data['card_number'], errors='coerce').notna()\n",
    "\n",
    "# Use the mask to display the rows where the specified column has non-numeric values\n",
    "rows_with_non_numeric_values = card_data[non_numeric_mask]\n",
    "\n",
    "# Display the rows where the specified column has non-numeric values\n",
    "print(rows_with_non_numeric_values)\n"
   ]
  },
  {
   "cell_type": "code",
   "execution_count": 106,
   "metadata": {},
   "outputs": [],
   "source": [
    "card_data['card_number'] = card_data['card_number'].str.replace(r'\\?', '', regex=True)"
   ]
  },
  {
   "cell_type": "code",
   "execution_count": 109,
   "metadata": {},
   "outputs": [],
   "source": [
    "# Create a boolean mask for rows containing the text \"NULL\"\n",
    "mask = card_data[\"card_number\"] == 'NULL'\n",
    "\n",
    "# Use the mask to drop rows with the text \"NULL\"\n",
    "card_data = card_data.drop(card_data[mask].index)"
   ]
  },
  {
   "cell_type": "code",
   "execution_count": 110,
   "metadata": {},
   "outputs": [
    {
     "name": "stdout",
     "output_type": "stream",
     "text": [
      "      card_number expiry_date card_provider date_payment_confirmed\n",
      "827    VAB9DSB8ZM  NWS3P2W38H    NB71VBAHJE             GTC9KBWJO9\n",
      "1443   MOZOT5Q95V  8YJ3TYH6Z5    WJVMUO4QX6             DJIXF1AFAZ\n",
      "3694   K0084A9R99  ACT9K6ECRJ    JRPRLPIBZ2             H2PCQP4W50\n",
      "4208   Y8ITI33X30  WDWMN9TU45    TS8A81WFXV             XTD27ANR5Q\n",
      "4916   RNSCD8OCIM  VNLNMWPJII    JCQMU8FN85             7VGB4DA1WI\n",
      "6653   MIK9G2EMM0  4FI5GTUVYG    5CJH7ABGDR             RLQYRRYHPU\n",
      "7332   I4PWLWSIRJ  RF1ACW165R    DE488ORDXY             T008RE1ZR6\n",
      "7493   OMZSBN2XG3  6JJKS7R0WA    OGJTXI6X1H             7FL8EU9GBF\n",
      "7818   NB8JJ05D7R  XRPE6C4GS9    1M38DYQTZV             GD9PHJXQR4\n",
      "10457  G0EF4TS8C8  5VN8HOLMVE    DLWF2HANZF             WCK463ZO1Z\n",
      "11345  Z8855EXTJX  Q7VGWP7LH9    XGZBYBYGUW             OE3KONN2V6\n",
      "11465  JQTLQAAQTD  ZBGGFGY4H0    UA07L7EILH             T995FX2C7W\n",
      "11499  T23BTBBJDD  UMR9FIE22M    BU9U947ZGV             EVVMMB3QYV\n",
      "14884  LSWT9DT4G4  2ANT8LW3I5    5MFWFBZRM9             UZGSD0AEBT\n"
     ]
    }
   ],
   "source": [
    "# Create a boolean mask for non-numeric values in the specified column\n",
    "non_numeric_mask = ~pd.to_numeric(card_data['card_number'], errors='coerce').notna()\n",
    "\n",
    "# Use the mask to display the rows where the specified column has non-numeric values\n",
    "rows_with_non_numeric_values = card_data[non_numeric_mask]\n",
    "\n",
    "# Display the rows where the specified column has non-numeric values\n",
    "print(rows_with_non_numeric_values)"
   ]
  },
  {
   "cell_type": "code",
   "execution_count": 111,
   "metadata": {},
   "outputs": [],
   "source": [
    "# Create a boolean mask for non-numeric values in the specified column\n",
    "non_numeric_mask = ~pd.to_numeric(card_data['card_number'], errors='coerce').notna()\n",
    "\n",
    "# Use the mask to drop rows with non-numeric values in the 'card_number' column\n",
    "card_data = card_data.loc[~non_numeric_mask]"
   ]
  },
  {
   "cell_type": "code",
   "execution_count": 112,
   "metadata": {},
   "outputs": [
    {
     "name": "stdout",
     "output_type": "stream",
     "text": [
      "Empty DataFrame\n",
      "Columns: [card_number, expiry_date, card_provider, date_payment_confirmed]\n",
      "Index: []\n"
     ]
    }
   ],
   "source": [
    "# Create a boolean mask for non-numeric values in the specified column\n",
    "non_numeric_mask = ~pd.to_numeric(card_data['card_number'], errors='coerce').notna()\n",
    "\n",
    "# Use the mask to display the rows where the specified column has non-numeric values\n",
    "rows_with_non_numeric_values = card_data[non_numeric_mask]\n",
    "\n",
    "# Display the rows where the specified column has non-numeric values\n",
    "print(rows_with_non_numeric_values)"
   ]
  },
  {
   "cell_type": "code",
   "execution_count": 113,
   "metadata": {},
   "outputs": [
    {
     "name": "stdout",
     "output_type": "stream",
     "text": [
      "<class 'pandas.core.frame.DataFrame'>\n",
      "Int64Index: 15284 entries, 0 to 15308\n",
      "Data columns (total 4 columns):\n",
      " #   Column                  Non-Null Count  Dtype \n",
      "---  ------                  --------------  ----- \n",
      " 0   card_number             15284 non-null  object\n",
      " 1   expiry_date             15284 non-null  object\n",
      " 2   card_provider           15284 non-null  object\n",
      " 3   date_payment_confirmed  15284 non-null  object\n",
      "dtypes: object(4)\n",
      "memory usage: 597.0+ KB\n"
     ]
    }
   ],
   "source": [
    "card_data.info()"
   ]
  },
  {
   "cell_type": "code",
   "execution_count": 116,
   "metadata": {},
   "outputs": [
    {
     "data": {
      "text/plain": [
       "card_number               0\n",
       "expiry_date               0\n",
       "card_provider             0\n",
       "date_payment_confirmed    0\n",
       "dtype: int64"
      ]
     },
     "execution_count": 116,
     "metadata": {},
     "output_type": "execute_result"
    }
   ],
   "source": [
    "card_data.isnull().sum()"
   ]
  }
 ],
 "metadata": {
  "kernelspec": {
   "display_name": "Python 3",
   "language": "python",
   "name": "python3"
  },
  "language_info": {
   "codemirror_mode": {
    "name": "ipython",
    "version": 3
   },
   "file_extension": ".py",
   "mimetype": "text/x-python",
   "name": "python",
   "nbconvert_exporter": "python",
   "pygments_lexer": "ipython3",
   "version": "3.8.5"
  }
 },
 "nbformat": 4,
 "nbformat_minor": 2
}
