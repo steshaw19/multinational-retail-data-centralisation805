{
 "cells": [
  {
   "cell_type": "code",
   "execution_count": 6,
   "metadata": {},
   "outputs": [],
   "source": [
    "import pandas as pd\n",
    "import numpy as np\n",
    "import matplotlib.pyplot as plt \n",
    "import seaborn as sns\n",
    "import boto3\n",
    "import yaml\n",
    "from io import BytesIO"
   ]
  },
  {
   "cell_type": "code",
   "execution_count": 8,
   "metadata": {},
   "outputs": [],
   "source": [
    "def extract_from_s3(s3_address, aws_credentials_path='aws_access.yaml'):\n",
    "    # Read AWS credentials from YAML file\n",
    "    with open(aws_credentials_path, 'r') as file:\n",
    "        aws_credentials = yaml.safe_load(file)\n",
    "\n",
    "    # Extract credentials from the YAML file\n",
    "    aws_access_key_id = aws_credentials['aws_access_key_id']\n",
    "    aws_secret_access_key = aws_credentials['aws_secret_access_key']\n",
    "\n",
    "    # Extract bucket and key from S3 address\n",
    "    bucket_name, key = s3_address.split('s3://')[1].split('/', 1)\n",
    "\n",
    "    # Create an S3 client\n",
    "    s3 = boto3.client('s3', aws_access_key_id=aws_access_key_id, aws_secret_access_key=aws_secret_access_key)\n",
    "\n",
    "    # Download the file from S3\n",
    "    response = s3.get_object(Bucket=bucket_name, Key=key)\n",
    "    content = response['Body'].read()\n",
    "\n",
    "    # Convert the content to a DataFrame\n",
    "    product_details_data = pd.read_csv(BytesIO(content))\n",
    "    product_details_data = product_details_data.set_index(product_details_data.columns[0])\n",
    "    return product_details_data\n",
    "\n",
    "aws_credentials_path = 'aws_access.yaml'\n",
    "s3_address = 's3://data-handling-public/products.csv'\n",
    "products_list = extract_from_s3(s3_address, aws_credentials_path)"
   ]
  },
  {
   "cell_type": "code",
   "execution_count": 9,
   "metadata": {},
   "outputs": [
    {
     "data": {
      "text/html": [
       "<div>\n",
       "<style scoped>\n",
       "    .dataframe tbody tr th:only-of-type {\n",
       "        vertical-align: middle;\n",
       "    }\n",
       "\n",
       "    .dataframe tbody tr th {\n",
       "        vertical-align: top;\n",
       "    }\n",
       "\n",
       "    .dataframe thead th {\n",
       "        text-align: right;\n",
       "    }\n",
       "</style>\n",
       "<table border=\"1\" class=\"dataframe\">\n",
       "  <thead>\n",
       "    <tr style=\"text-align: right;\">\n",
       "      <th></th>\n",
       "      <th>product_name</th>\n",
       "      <th>product_price</th>\n",
       "      <th>weight</th>\n",
       "      <th>category</th>\n",
       "      <th>EAN</th>\n",
       "      <th>date_added</th>\n",
       "      <th>uuid</th>\n",
       "      <th>removed</th>\n",
       "      <th>product_code</th>\n",
       "    </tr>\n",
       "    <tr>\n",
       "      <th>Unnamed: 0</th>\n",
       "      <th></th>\n",
       "      <th></th>\n",
       "      <th></th>\n",
       "      <th></th>\n",
       "      <th></th>\n",
       "      <th></th>\n",
       "      <th></th>\n",
       "      <th></th>\n",
       "      <th></th>\n",
       "    </tr>\n",
       "  </thead>\n",
       "  <tbody>\n",
       "    <tr>\n",
       "      <th>0</th>\n",
       "      <td>FurReal Dazzlin' Dimples My Playful Dolphin</td>\n",
       "      <td>£39.99</td>\n",
       "      <td>1.6kg</td>\n",
       "      <td>toys-and-games</td>\n",
       "      <td>7425710935115</td>\n",
       "      <td>2005-12-02</td>\n",
       "      <td>83dc0a69-f96f-4c34-bcb7-928acae19a94</td>\n",
       "      <td>Still_avaliable</td>\n",
       "      <td>R7-3126933h</td>\n",
       "    </tr>\n",
       "    <tr>\n",
       "      <th>1</th>\n",
       "      <td>Tiffany's World Day Out At The Park</td>\n",
       "      <td>£12.99</td>\n",
       "      <td>0.48kg</td>\n",
       "      <td>toys-and-games</td>\n",
       "      <td>487128731892</td>\n",
       "      <td>2006-01-09</td>\n",
       "      <td>712254d7-aea7-4310-aff8-8bcdd0aec7ff</td>\n",
       "      <td>Still_avaliable</td>\n",
       "      <td>C2-7287916l</td>\n",
       "    </tr>\n",
       "    <tr>\n",
       "      <th>2</th>\n",
       "      <td>Tiffany's World Pups Picnic Playset</td>\n",
       "      <td>£7.00</td>\n",
       "      <td>590g</td>\n",
       "      <td>toys-and-games</td>\n",
       "      <td>1945816904649</td>\n",
       "      <td>1997-03-29</td>\n",
       "      <td>b089ef6f-b628-4e37-811d-fffe0102ba64</td>\n",
       "      <td>Still_avaliable</td>\n",
       "      <td>S7-1175877v</td>\n",
       "    </tr>\n",
       "    <tr>\n",
       "      <th>3</th>\n",
       "      <td>Tiffany's World Wildlife Park Adventures</td>\n",
       "      <td>£12.99</td>\n",
       "      <td>540g</td>\n",
       "      <td>toys-and-games</td>\n",
       "      <td>1569790890899</td>\n",
       "      <td>2013-03-20</td>\n",
       "      <td>d55de422-8b98-47d6-9991-e4bc4c5c0cb0</td>\n",
       "      <td>Removed</td>\n",
       "      <td>D8-8421505n</td>\n",
       "    </tr>\n",
       "    <tr>\n",
       "      <th>4</th>\n",
       "      <td>Cosatto Cosy Dolls Pram</td>\n",
       "      <td>£30.00</td>\n",
       "      <td>1.91kg</td>\n",
       "      <td>toys-and-games</td>\n",
       "      <td>7142740213920</td>\n",
       "      <td>2007-12-23</td>\n",
       "      <td>7945b657-cb02-4cc5-96cf-f65ed0a8f235</td>\n",
       "      <td>Still_avaliable</td>\n",
       "      <td>B6-2596063a</td>\n",
       "    </tr>\n",
       "  </tbody>\n",
       "</table>\n",
       "</div>"
      ],
      "text/plain": [
       "                                           product_name product_price  weight  \\\n",
       "Unnamed: 0                                                                      \n",
       "0           FurReal Dazzlin' Dimples My Playful Dolphin        £39.99   1.6kg   \n",
       "1                   Tiffany's World Day Out At The Park        £12.99  0.48kg   \n",
       "2                   Tiffany's World Pups Picnic Playset         £7.00    590g   \n",
       "3              Tiffany's World Wildlife Park Adventures        £12.99    540g   \n",
       "4                               Cosatto Cosy Dolls Pram        £30.00  1.91kg   \n",
       "\n",
       "                  category            EAN  date_added  \\\n",
       "Unnamed: 0                                              \n",
       "0           toys-and-games  7425710935115  2005-12-02   \n",
       "1           toys-and-games   487128731892  2006-01-09   \n",
       "2           toys-and-games  1945816904649  1997-03-29   \n",
       "3           toys-and-games  1569790890899  2013-03-20   \n",
       "4           toys-and-games  7142740213920  2007-12-23   \n",
       "\n",
       "                                            uuid          removed product_code  \n",
       "Unnamed: 0                                                                      \n",
       "0           83dc0a69-f96f-4c34-bcb7-928acae19a94  Still_avaliable  R7-3126933h  \n",
       "1           712254d7-aea7-4310-aff8-8bcdd0aec7ff  Still_avaliable  C2-7287916l  \n",
       "2           b089ef6f-b628-4e37-811d-fffe0102ba64  Still_avaliable  S7-1175877v  \n",
       "3           d55de422-8b98-47d6-9991-e4bc4c5c0cb0          Removed  D8-8421505n  \n",
       "4           7945b657-cb02-4cc5-96cf-f65ed0a8f235  Still_avaliable  B6-2596063a  "
      ]
     },
     "execution_count": 9,
     "metadata": {},
     "output_type": "execute_result"
    }
   ],
   "source": [
    "products_list.head()"
   ]
  },
  {
   "cell_type": "code",
   "execution_count": 10,
   "metadata": {},
   "outputs": [
    {
     "data": {
      "text/html": [
       "<div>\n",
       "<style scoped>\n",
       "    .dataframe tbody tr th:only-of-type {\n",
       "        vertical-align: middle;\n",
       "    }\n",
       "\n",
       "    .dataframe tbody tr th {\n",
       "        vertical-align: top;\n",
       "    }\n",
       "\n",
       "    .dataframe thead th {\n",
       "        text-align: right;\n",
       "    }\n",
       "</style>\n",
       "<table border=\"1\" class=\"dataframe\">\n",
       "  <thead>\n",
       "    <tr style=\"text-align: right;\">\n",
       "      <th></th>\n",
       "      <th>product_name</th>\n",
       "      <th>product_price</th>\n",
       "      <th>weight</th>\n",
       "      <th>category</th>\n",
       "      <th>EAN</th>\n",
       "      <th>date_added</th>\n",
       "      <th>uuid</th>\n",
       "      <th>removed</th>\n",
       "      <th>product_code</th>\n",
       "    </tr>\n",
       "  </thead>\n",
       "  <tbody>\n",
       "    <tr>\n",
       "      <th>count</th>\n",
       "      <td>1849</td>\n",
       "      <td>1849</td>\n",
       "      <td>1849</td>\n",
       "      <td>1849</td>\n",
       "      <td>1849</td>\n",
       "      <td>1849</td>\n",
       "      <td>1849</td>\n",
       "      <td>1849</td>\n",
       "      <td>1849</td>\n",
       "    </tr>\n",
       "    <tr>\n",
       "      <th>unique</th>\n",
       "      <td>1021</td>\n",
       "      <td>132</td>\n",
       "      <td>483</td>\n",
       "      <td>10</td>\n",
       "      <td>1849</td>\n",
       "      <td>1704</td>\n",
       "      <td>1849</td>\n",
       "      <td>5</td>\n",
       "      <td>1849</td>\n",
       "    </tr>\n",
       "    <tr>\n",
       "      <th>top</th>\n",
       "      <td>Maine 3 Tier Corner Shelving - White</td>\n",
       "      <td>£25.00</td>\n",
       "      <td>2.9kg</td>\n",
       "      <td>homeware</td>\n",
       "      <td>7425710935115</td>\n",
       "      <td>2007-01-15</td>\n",
       "      <td>83dc0a69-f96f-4c34-bcb7-928acae19a94</td>\n",
       "      <td>Still_avaliable</td>\n",
       "      <td>R7-3126933h</td>\n",
       "    </tr>\n",
       "    <tr>\n",
       "      <th>freq</th>\n",
       "      <td>12</td>\n",
       "      <td>113</td>\n",
       "      <td>30</td>\n",
       "      <td>1138</td>\n",
       "      <td>1</td>\n",
       "      <td>3</td>\n",
       "      <td>1</td>\n",
       "      <td>1752</td>\n",
       "      <td>1</td>\n",
       "    </tr>\n",
       "  </tbody>\n",
       "</table>\n",
       "</div>"
      ],
      "text/plain": [
       "                                product_name product_price weight  category  \\\n",
       "count                                   1849          1849   1849      1849   \n",
       "unique                                  1021           132    483        10   \n",
       "top     Maine 3 Tier Corner Shelving - White        £25.00  2.9kg  homeware   \n",
       "freq                                      12           113     30      1138   \n",
       "\n",
       "                  EAN  date_added                                  uuid  \\\n",
       "count            1849        1849                                  1849   \n",
       "unique           1849        1704                                  1849   \n",
       "top     7425710935115  2007-01-15  83dc0a69-f96f-4c34-bcb7-928acae19a94   \n",
       "freq                1           3                                     1   \n",
       "\n",
       "                removed product_code  \n",
       "count              1849         1849  \n",
       "unique                5         1849  \n",
       "top     Still_avaliable  R7-3126933h  \n",
       "freq               1752            1  "
      ]
     },
     "execution_count": 10,
     "metadata": {},
     "output_type": "execute_result"
    }
   ],
   "source": [
    "products_list.describe(include=\"all\")"
   ]
  },
  {
   "cell_type": "code",
   "execution_count": 27,
   "metadata": {},
   "outputs": [
    {
     "name": "stdout",
     "output_type": "stream",
     "text": [
      "<class 'pandas.core.frame.DataFrame'>\n",
      "Int64Index: 1850 entries, 0 to 1852\n",
      "Data columns (total 9 columns):\n",
      " #   Column         Non-Null Count  Dtype \n",
      "---  ------         --------------  ----- \n",
      " 0   product_name   1849 non-null   object\n",
      " 1   product_price  1849 non-null   object\n",
      " 2   weight         1849 non-null   object\n",
      " 3   category       1849 non-null   object\n",
      " 4   EAN            1849 non-null   object\n",
      " 5   date_added     1849 non-null   object\n",
      " 6   uuid           1849 non-null   object\n",
      " 7   removed        1849 non-null   object\n",
      " 8   product_code   1849 non-null   object\n",
      "dtypes: object(9)\n",
      "memory usage: 144.5+ KB\n"
     ]
    }
   ],
   "source": [
    "products_list.info()"
   ]
  },
  {
   "cell_type": "code",
   "execution_count": 26,
   "metadata": {},
   "outputs": [
    {
     "data": {
      "text/plain": [
       "array([False])"
      ]
     },
     "execution_count": 26,
     "metadata": {},
     "output_type": "execute_result"
    }
   ],
   "source": [
    "products_list.duplicated().unique()\n"
   ]
  },
  {
   "cell_type": "code",
   "execution_count": 25,
   "metadata": {},
   "outputs": [
    {
     "name": "stdout",
     "output_type": "stream",
     "text": [
      "Empty DataFrame\n",
      "Columns: [product_name, product_price, weight, category, EAN, date_added, uuid, removed, product_code]\n",
      "Index: []\n"
     ]
    }
   ],
   "source": [
    "duplicated_rows = products_list[products_list.duplicated()]\n",
    "print(duplicated_rows)"
   ]
  },
  {
   "cell_type": "code",
   "execution_count": 23,
   "metadata": {},
   "outputs": [],
   "source": [
    "products_list = products_list.drop_duplicates()"
   ]
  },
  {
   "cell_type": "code",
   "execution_count": 24,
   "metadata": {},
   "outputs": [
    {
     "data": {
      "text/html": [
       "<div>\n",
       "<style scoped>\n",
       "    .dataframe tbody tr th:only-of-type {\n",
       "        vertical-align: middle;\n",
       "    }\n",
       "\n",
       "    .dataframe tbody tr th {\n",
       "        vertical-align: top;\n",
       "    }\n",
       "\n",
       "    .dataframe thead th {\n",
       "        text-align: right;\n",
       "    }\n",
       "</style>\n",
       "<table border=\"1\" class=\"dataframe\">\n",
       "  <thead>\n",
       "    <tr style=\"text-align: right;\">\n",
       "      <th></th>\n",
       "      <th>product_name</th>\n",
       "      <th>product_price</th>\n",
       "      <th>weight</th>\n",
       "      <th>category</th>\n",
       "      <th>EAN</th>\n",
       "      <th>date_added</th>\n",
       "      <th>uuid</th>\n",
       "      <th>removed</th>\n",
       "      <th>product_code</th>\n",
       "    </tr>\n",
       "  </thead>\n",
       "  <tbody>\n",
       "    <tr>\n",
       "      <th>count</th>\n",
       "      <td>1849</td>\n",
       "      <td>1849</td>\n",
       "      <td>1849</td>\n",
       "      <td>1849</td>\n",
       "      <td>1849</td>\n",
       "      <td>1849</td>\n",
       "      <td>1849</td>\n",
       "      <td>1849</td>\n",
       "      <td>1849</td>\n",
       "    </tr>\n",
       "    <tr>\n",
       "      <th>unique</th>\n",
       "      <td>1021</td>\n",
       "      <td>132</td>\n",
       "      <td>483</td>\n",
       "      <td>10</td>\n",
       "      <td>1849</td>\n",
       "      <td>1704</td>\n",
       "      <td>1849</td>\n",
       "      <td>5</td>\n",
       "      <td>1849</td>\n",
       "    </tr>\n",
       "    <tr>\n",
       "      <th>top</th>\n",
       "      <td>Maine 3 Tier Corner Shelving - White</td>\n",
       "      <td>£25.00</td>\n",
       "      <td>2.9kg</td>\n",
       "      <td>homeware</td>\n",
       "      <td>7425710935115</td>\n",
       "      <td>2007-01-15</td>\n",
       "      <td>83dc0a69-f96f-4c34-bcb7-928acae19a94</td>\n",
       "      <td>Still_avaliable</td>\n",
       "      <td>R7-3126933h</td>\n",
       "    </tr>\n",
       "    <tr>\n",
       "      <th>freq</th>\n",
       "      <td>12</td>\n",
       "      <td>113</td>\n",
       "      <td>30</td>\n",
       "      <td>1138</td>\n",
       "      <td>1</td>\n",
       "      <td>3</td>\n",
       "      <td>1</td>\n",
       "      <td>1752</td>\n",
       "      <td>1</td>\n",
       "    </tr>\n",
       "  </tbody>\n",
       "</table>\n",
       "</div>"
      ],
      "text/plain": [
       "                                product_name product_price weight  category  \\\n",
       "count                                   1849          1849   1849      1849   \n",
       "unique                                  1021           132    483        10   \n",
       "top     Maine 3 Tier Corner Shelving - White        £25.00  2.9kg  homeware   \n",
       "freq                                      12           113     30      1138   \n",
       "\n",
       "                  EAN  date_added                                  uuid  \\\n",
       "count            1849        1849                                  1849   \n",
       "unique           1849        1704                                  1849   \n",
       "top     7425710935115  2007-01-15  83dc0a69-f96f-4c34-bcb7-928acae19a94   \n",
       "freq                1           3                                     1   \n",
       "\n",
       "                removed product_code  \n",
       "count              1849         1849  \n",
       "unique                5         1849  \n",
       "top     Still_avaliable  R7-3126933h  \n",
       "freq               1752            1  "
      ]
     },
     "execution_count": 24,
     "metadata": {},
     "output_type": "execute_result"
    }
   ],
   "source": [
    "products_list.describe(include=\"all\")"
   ]
  },
  {
   "cell_type": "code",
   "execution_count": 28,
   "metadata": {},
   "outputs": [
    {
     "data": {
      "text/html": [
       "<div>\n",
       "<style scoped>\n",
       "    .dataframe tbody tr th:only-of-type {\n",
       "        vertical-align: middle;\n",
       "    }\n",
       "\n",
       "    .dataframe tbody tr th {\n",
       "        vertical-align: top;\n",
       "    }\n",
       "\n",
       "    .dataframe thead th {\n",
       "        text-align: right;\n",
       "    }\n",
       "</style>\n",
       "<table border=\"1\" class=\"dataframe\">\n",
       "  <thead>\n",
       "    <tr style=\"text-align: right;\">\n",
       "      <th></th>\n",
       "      <th>product_name</th>\n",
       "      <th>product_price</th>\n",
       "      <th>weight</th>\n",
       "      <th>category</th>\n",
       "      <th>EAN</th>\n",
       "      <th>date_added</th>\n",
       "      <th>uuid</th>\n",
       "      <th>removed</th>\n",
       "      <th>product_code</th>\n",
       "    </tr>\n",
       "    <tr>\n",
       "      <th>Unnamed: 0</th>\n",
       "      <th></th>\n",
       "      <th></th>\n",
       "      <th></th>\n",
       "      <th></th>\n",
       "      <th></th>\n",
       "      <th></th>\n",
       "      <th></th>\n",
       "      <th></th>\n",
       "      <th></th>\n",
       "    </tr>\n",
       "  </thead>\n",
       "  <tbody>\n",
       "    <tr>\n",
       "      <th>266</th>\n",
       "      <td>NaN</td>\n",
       "      <td>NaN</td>\n",
       "      <td>NaN</td>\n",
       "      <td>NaN</td>\n",
       "      <td>NaN</td>\n",
       "      <td>NaN</td>\n",
       "      <td>NaN</td>\n",
       "      <td>NaN</td>\n",
       "      <td>NaN</td>\n",
       "    </tr>\n",
       "  </tbody>\n",
       "</table>\n",
       "</div>"
      ],
      "text/plain": [
       "           product_name product_price weight category  EAN date_added uuid  \\\n",
       "Unnamed: 0                                                                   \n",
       "266                 NaN           NaN    NaN      NaN  NaN        NaN  NaN   \n",
       "\n",
       "           removed product_code  \n",
       "Unnamed: 0                       \n",
       "266            NaN          NaN  "
      ]
     },
     "execution_count": 28,
     "metadata": {},
     "output_type": "execute_result"
    }
   ],
   "source": [
    "products_list[products_list.isna().any(axis=1)]"
   ]
  },
  {
   "cell_type": "code",
   "execution_count": 29,
   "metadata": {},
   "outputs": [],
   "source": [
    "products_list = products_list.dropna()"
   ]
  },
  {
   "cell_type": "code",
   "execution_count": 30,
   "metadata": {},
   "outputs": [
    {
     "data": {
      "text/html": [
       "<div>\n",
       "<style scoped>\n",
       "    .dataframe tbody tr th:only-of-type {\n",
       "        vertical-align: middle;\n",
       "    }\n",
       "\n",
       "    .dataframe tbody tr th {\n",
       "        vertical-align: top;\n",
       "    }\n",
       "\n",
       "    .dataframe thead th {\n",
       "        text-align: right;\n",
       "    }\n",
       "</style>\n",
       "<table border=\"1\" class=\"dataframe\">\n",
       "  <thead>\n",
       "    <tr style=\"text-align: right;\">\n",
       "      <th></th>\n",
       "      <th>product_name</th>\n",
       "      <th>product_price</th>\n",
       "      <th>weight</th>\n",
       "      <th>category</th>\n",
       "      <th>EAN</th>\n",
       "      <th>date_added</th>\n",
       "      <th>uuid</th>\n",
       "      <th>removed</th>\n",
       "      <th>product_code</th>\n",
       "    </tr>\n",
       "    <tr>\n",
       "      <th>Unnamed: 0</th>\n",
       "      <th></th>\n",
       "      <th></th>\n",
       "      <th></th>\n",
       "      <th></th>\n",
       "      <th></th>\n",
       "      <th></th>\n",
       "      <th></th>\n",
       "      <th></th>\n",
       "      <th></th>\n",
       "    </tr>\n",
       "  </thead>\n",
       "  <tbody>\n",
       "  </tbody>\n",
       "</table>\n",
       "</div>"
      ],
      "text/plain": [
       "Empty DataFrame\n",
       "Columns: [product_name, product_price, weight, category, EAN, date_added, uuid, removed, product_code]\n",
       "Index: []"
      ]
     },
     "execution_count": 30,
     "metadata": {},
     "output_type": "execute_result"
    }
   ],
   "source": [
    "products_list[products_list.isna().any(axis=1)]"
   ]
  },
  {
   "cell_type": "code",
   "execution_count": 32,
   "metadata": {},
   "outputs": [
    {
     "name": "stdout",
     "output_type": "stream",
     "text": [
      "           product_name product_price      weight    category         EAN  \\\n",
      "Unnamed: 0                                                                  \n",
      "751          VLPCU81M30    XCD69KUI0K  9GO9NZ5JTL  S1YB74MLMJ  OO7KH8P79I   \n",
      "1133         9SX4G65YUX    N9D2BZQX63  Z8ZTDGUZVU  C3NCA2CL35  E8EOGWOY8S   \n",
      "1400         LB3D71C025    ODPMASE7V7  MX180RYSHX  WVPMHZP59U  BHPF2JTNKQ   \n",
      "\n",
      "            date_added        uuid     removed product_code  \n",
      "Unnamed: 0                                                   \n",
      "751         CCAVRB79VV  7QB0Z9EW1G  T3QRRH7SRP   SDAV678FVD  \n",
      "1133        09KREHTMWL  CP8XYQVGGU  BPSADIOQOK  BSDTR67VD90  \n",
      "1400        PEPWA0NCVH  VIBLHHVPMN  H5N71TV8AY   OPSD21HN67  \n"
     ]
    }
   ],
   "source": [
    "non_numeric_mask = ~products_list['EAN'].str.isnumeric()\n",
    "\n",
    "# Use the mask to display rows with non-numeric characters in the 'EAN' column\n",
    "rows_with_non_numeric = products_list[non_numeric_mask]\n",
    "\n",
    "# Display the rows with non-numeric characters in the 'EAN' column\n",
    "print(rows_with_non_numeric)"
   ]
  },
  {
   "cell_type": "code",
   "execution_count": 33,
   "metadata": {},
   "outputs": [],
   "source": [
    "products_list = products_list.drop(products_list[non_numeric_mask].index)"
   ]
  },
  {
   "cell_type": "code",
   "execution_count": 34,
   "metadata": {},
   "outputs": [
    {
     "name": "stdout",
     "output_type": "stream",
     "text": [
      "Empty DataFrame\n",
      "Columns: [product_name, product_price, weight, category, EAN, date_added, uuid, removed, product_code]\n",
      "Index: []\n"
     ]
    }
   ],
   "source": [
    "non_numeric_mask = ~products_list['EAN'].str.isnumeric()\n",
    "\n",
    "# Use the mask to display rows with non-numeric characters in the 'EAN' column\n",
    "rows_with_non_numeric = products_list[non_numeric_mask]\n",
    "\n",
    "# Display the rows with non-numeric characters in the 'EAN' column\n",
    "print(rows_with_non_numeric)"
   ]
  },
  {
   "cell_type": "code",
   "execution_count": 35,
   "metadata": {},
   "outputs": [
    {
     "data": {
      "text/html": [
       "<div>\n",
       "<style scoped>\n",
       "    .dataframe tbody tr th:only-of-type {\n",
       "        vertical-align: middle;\n",
       "    }\n",
       "\n",
       "    .dataframe tbody tr th {\n",
       "        vertical-align: top;\n",
       "    }\n",
       "\n",
       "    .dataframe thead th {\n",
       "        text-align: right;\n",
       "    }\n",
       "</style>\n",
       "<table border=\"1\" class=\"dataframe\">\n",
       "  <thead>\n",
       "    <tr style=\"text-align: right;\">\n",
       "      <th></th>\n",
       "      <th>product_name</th>\n",
       "      <th>product_price</th>\n",
       "      <th>weight</th>\n",
       "      <th>category</th>\n",
       "      <th>EAN</th>\n",
       "      <th>date_added</th>\n",
       "      <th>uuid</th>\n",
       "      <th>removed</th>\n",
       "      <th>product_code</th>\n",
       "    </tr>\n",
       "  </thead>\n",
       "  <tbody>\n",
       "    <tr>\n",
       "      <th>count</th>\n",
       "      <td>1846</td>\n",
       "      <td>1846</td>\n",
       "      <td>1846</td>\n",
       "      <td>1846</td>\n",
       "      <td>1846</td>\n",
       "      <td>1846</td>\n",
       "      <td>1846</td>\n",
       "      <td>1846</td>\n",
       "      <td>1846</td>\n",
       "    </tr>\n",
       "    <tr>\n",
       "      <th>unique</th>\n",
       "      <td>1018</td>\n",
       "      <td>129</td>\n",
       "      <td>480</td>\n",
       "      <td>7</td>\n",
       "      <td>1846</td>\n",
       "      <td>1701</td>\n",
       "      <td>1846</td>\n",
       "      <td>2</td>\n",
       "      <td>1846</td>\n",
       "    </tr>\n",
       "    <tr>\n",
       "      <th>top</th>\n",
       "      <td>Maine 3 Tier Corner Shelving - White</td>\n",
       "      <td>£25.00</td>\n",
       "      <td>2.9kg</td>\n",
       "      <td>homeware</td>\n",
       "      <td>7425710935115</td>\n",
       "      <td>2001-10-20</td>\n",
       "      <td>83dc0a69-f96f-4c34-bcb7-928acae19a94</td>\n",
       "      <td>Still_avaliable</td>\n",
       "      <td>R7-3126933h</td>\n",
       "    </tr>\n",
       "    <tr>\n",
       "      <th>freq</th>\n",
       "      <td>12</td>\n",
       "      <td>113</td>\n",
       "      <td>30</td>\n",
       "      <td>1138</td>\n",
       "      <td>1</td>\n",
       "      <td>3</td>\n",
       "      <td>1</td>\n",
       "      <td>1752</td>\n",
       "      <td>1</td>\n",
       "    </tr>\n",
       "  </tbody>\n",
       "</table>\n",
       "</div>"
      ],
      "text/plain": [
       "                                product_name product_price weight  category  \\\n",
       "count                                   1846          1846   1846      1846   \n",
       "unique                                  1018           129    480         7   \n",
       "top     Maine 3 Tier Corner Shelving - White        £25.00  2.9kg  homeware   \n",
       "freq                                      12           113     30      1138   \n",
       "\n",
       "                  EAN  date_added                                  uuid  \\\n",
       "count            1846        1846                                  1846   \n",
       "unique           1846        1701                                  1846   \n",
       "top     7425710935115  2001-10-20  83dc0a69-f96f-4c34-bcb7-928acae19a94   \n",
       "freq                1           3                                     1   \n",
       "\n",
       "                removed product_code  \n",
       "count              1846         1846  \n",
       "unique                2         1846  \n",
       "top     Still_avaliable  R7-3126933h  \n",
       "freq               1752            1  "
      ]
     },
     "execution_count": 35,
     "metadata": {},
     "output_type": "execute_result"
    }
   ],
   "source": [
    "products_list.describe(include=\"all\")"
   ]
  },
  {
   "cell_type": "code",
   "execution_count": 36,
   "metadata": {},
   "outputs": [
    {
     "data": {
      "text/plain": [
       "product_name     0\n",
       "product_price    0\n",
       "weight           0\n",
       "category         0\n",
       "EAN              0\n",
       "date_added       0\n",
       "uuid             0\n",
       "removed          0\n",
       "product_code     0\n",
       "dtype: int64"
      ]
     },
     "execution_count": 36,
     "metadata": {},
     "output_type": "execute_result"
    }
   ],
   "source": [
    "products_list.isnull().sum()"
   ]
  },
  {
   "cell_type": "code",
   "execution_count": 38,
   "metadata": {},
   "outputs": [
    {
     "data": {
      "text/plain": [
       "array(['toys-and-games', 'sports-and-leisure', 'pets', 'homeware',\n",
       "       'health-and-beauty', 'food-and-drink', 'diy'], dtype=object)"
      ]
     },
     "execution_count": 38,
     "metadata": {},
     "output_type": "execute_result"
    }
   ],
   "source": [
    "products_list.category.unique()"
   ]
  }
 ],
 "metadata": {
  "kernelspec": {
   "display_name": "Python 3",
   "language": "python",
   "name": "python3"
  },
  "language_info": {
   "codemirror_mode": {
    "name": "ipython",
    "version": 3
   },
   "file_extension": ".py",
   "mimetype": "text/x-python",
   "name": "python",
   "nbconvert_exporter": "python",
   "pygments_lexer": "ipython3",
   "version": "3.8.5"
  }
 },
 "nbformat": 4,
 "nbformat_minor": 2
}
